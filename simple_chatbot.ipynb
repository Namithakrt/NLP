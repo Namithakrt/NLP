{
  "cells": [
    {
      "cell_type": "markdown",
      "metadata": {
        "id": "view-in-github",
        "colab_type": "text"
      },
      "source": [
        "<a href=\"https://colab.research.google.com/github/Namithakrt/NLP/blob/main/simple_chatbot.ipynb\" target=\"_parent\"><img src=\"https://colab.research.google.com/assets/colab-badge.svg\" alt=\"Open In Colab\"/></a>"
      ]
    },
    {
      "cell_type": "code",
      "execution_count": null,
      "metadata": {
        "id": "5CMBgTn4bErS"
      },
      "outputs": [],
      "source": [
        "name='bot207'\n",
        "weather='sunny'\n",
        "mood='great'\n",
        "\n",
        "responses={\n",
        "    'hello':['hy','hey'],\n",
        "    'what is your name?':['they call me {}'.format(name),\n",
        "                          'i usually go by the name {}'.format(name),\n",
        "                          'i am {}'.format(name)],\n",
        "    \"what is today's weather?\":['the weather is {}'.format(weather),\n",
        "                                \"it's {} today\".format(weather)],\n",
        "    \"how are you?\":['i am feeling{}'.format(mood),\n",
        "                    '{}! how about you'.format(mood)],\n",
        "    \"\":['hey! are you there?',\n",
        "        'what do ypu mean by this?'],\n",
        "    \"default\":[\"sorry!!! i did not get you\",\"sorry!!\"],\n",
        "    \"end\":[\"thamk you\",\"good to talk to you\",\"see you\"]\n",
        "}"
      ]
    },
    {
      "cell_type": "code",
      "execution_count": null,
      "metadata": {
        "id": "YYLjvgJDdBk9"
      },
      "outputs": [],
      "source": [
        "import random\n",
        "def res(message):\n",
        "  if message in responses:\n",
        "    bot207_message=random.choice(responses[message])\n",
        "  else:\n",
        "    bot207_message=random.choice(responses['default'])\n",
        "  return bot207_message"
      ]
    },
    {
      "cell_type": "code",
      "execution_count": null,
      "metadata": {
        "id": "nbnEW8rCdqS2"
      },
      "outputs": [],
      "source": [
        "def real(text):\n",
        "  if 'name' in text:\n",
        "    text_out='what is your name?'\n",
        "  elif 'hello ' in text:\n",
        "     text_out='hello'\n",
        "  elif ('weather' in text) or ('climate'in text):\n",
        "    text_out=\"what is today's weather?\"\n",
        "  elif 'how are' in text:\n",
        "    text_out= \"how are you?\"\n",
        "  elif text=='stop' or text=='exit' or text=='end':\n",
        "    text_out='end'\n",
        "  elif text=='':\n",
        "    text_out=\"\"\n",
        "  else:\n",
        "    text_out='default'\n",
        "  return text_out"
      ]
    },
    {
      "cell_type": "code",
      "execution_count": null,
      "metadata": {
        "id": "grvcr0BlgOe6"
      },
      "outputs": [],
      "source": [
        "def send_message(message):#send response of the chatbot\n",
        "   response=res(message)\n",
        "   print(response)"
      ]
    },
    {
      "cell_type": "code",
      "execution_count": null,
      "metadata": {
        "id": "C0A3_5JXmysX"
      },
      "outputs": [],
      "source": []
    },
    {
      "cell_type": "code",
      "execution_count": null,
      "metadata": {
        "id": "FRS-IewTgnpW"
      },
      "outputs": [],
      "source": [
        "while True:\n",
        "  my_input=input()\n",
        "  my_input=my_input.lower()\n",
        "  text=real(my_input)\n",
        "  send_message(text)\n",
        "  if my_input=='exit' or my_input=='stop' or my_input=='end':\n",
        "    break"
      ]
    },
    {
      "cell_type": "code",
      "execution_count": null,
      "metadata": {
        "id": "ek4cmW6VifUu"
      },
      "outputs": [],
      "source": [
        "name='RAJ ELECTRONICS'\n",
        "phone_price=15000-50000\n",
        "lap_price=25000-80000\n",
        "devices=\"phone and laptop\"\n",
        "\n",
        "responses={\n",
        "    'hello':['hy','hey'],\n",
        "    'shop name?':['this is {}'.format(name),\n",
        "                 \"this is {}' ,what can i do for you\".format(name)],\n",
        "    'what are the available devices there?':['available devices are {}'.format(devices)],\n",
        "\n",
        "    \"what is the price of phone?\":['the phone price range  is {}'.format(phone_price),\n",
        "                                \"it's only {} today\".format(phone_price)],\n",
        "    \"what is the price of laptop?\":['the phone price range  is {}'.format(lap_price),\n",
        "                                \"it's only {} today\".format(lap_price)],\n",
        "    \"\":['hey! are you there?',\n",
        "        'what do ypu mean by this?'],\n",
        "    \"default\":[\"sorry!!! i did not get you\",\"sorry!!\"],\n",
        "    \"end\":[\"thamk you\",\"good to talk to you\",\"see you\"]\n",
        "}"
      ]
    },
    {
      "cell_type": "code",
      "execution_count": null,
      "metadata": {
        "id": "6yxp2Pe9kslB"
      },
      "outputs": [],
      "source": [
        "import random\n",
        "def res(message):\n",
        "  if message in responses:\n",
        "    bot207_message=random.choice(responses[message])\n",
        "  else:\n",
        "    bot207_message=random.choice(responses['default'])\n",
        "  return bot207_message"
      ]
    },
    {
      "cell_type": "code",
      "execution_count": null,
      "metadata": {
        "id": "5a6ap3AjkyWn"
      },
      "outputs": [],
      "source": [
        "def real(text):\n",
        "  if 'shop name' in text:\n",
        "    text_out='shop name?'\n",
        "  elif 'hello ' in text:\n",
        "     text_out='hello'\n",
        "  elif ('available devices' in text) :\n",
        "    text_out=\"what are the available devices there?\"\n",
        "  elif 'price of phone' in text:\n",
        "    text_out= \"what is the price of phone?\"\n",
        "  elif 'price of lap' in text:\n",
        "    text_out= \"what is the price of laptop?\"\n",
        "  elif text=='stop' or text=='exit' or text=='end':\n",
        "    text_out='end'\n",
        "  elif text=='':\n",
        "    text_out=\"\"\n",
        "  else:\n",
        "    text_out='default'\n",
        "  return text_out"
      ]
    },
    {
      "cell_type": "code",
      "execution_count": null,
      "metadata": {
        "id": "gJTkMyiQlwq-"
      },
      "outputs": [],
      "source": [
        "def send_message(message):#send response of the chatbot\n",
        "   response=res(message)\n",
        "   print(response)"
      ]
    },
    {
      "cell_type": "code",
      "execution_count": null,
      "metadata": {
        "colab": {
          "background_save": true,
          "base_uri": "https://localhost:8080/"
        },
        "id": "txncShKFlzRt",
        "outputId": "5981beef-530b-442f-d4f1-bb659bc0b033"
      },
      "outputs": [
        {
          "name": "stdout",
          "output_type": "stream",
          "text": [
            "sorry!!\n",
            "this is RAJ ELECTRONICS' ,what can i do for you\n",
            "what do ypu mean by this?\n"
          ]
        }
      ],
      "source": [
        "while True:\n",
        "  my_input=input()\n",
        "  my_input=my_input.lower()\n",
        "  text=real(my_input)\n",
        "  send_message(text)\n",
        "  if my_input=='exit' or my_input=='stop' or my_input=='end':\n",
        "    break"
      ]
    },
    {
      "cell_type": "code",
      "execution_count": null,
      "metadata": {
        "id": "vcI8hrsCnjJp"
      },
      "outputs": [],
      "source": []
    }
  ],
  "metadata": {
    "colab": {
      "provenance": [],
      "include_colab_link": true
    },
    "kernelspec": {
      "display_name": "Python 3",
      "name": "python3"
    },
    "language_info": {
      "name": "python"
    }
  },
  "nbformat": 4,
  "nbformat_minor": 0
}